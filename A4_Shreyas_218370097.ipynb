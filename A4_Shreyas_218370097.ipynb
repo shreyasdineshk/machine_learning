{
 "cells": [
  {
   "cell_type": "code",
   "execution_count": 236,
   "metadata": {},
   "outputs": [],
   "source": [
    "import pandas as pd\n",
    "import numpy as np\n",
    "import matplotlib.pyplot as plt\n",
    "from sklearn import datasets\n",
    "from sklearn.model_selection import train_test_split\n",
    "from sklearn.neighbors import KNeighborsClassifier\n",
    "from sklearn import metrics\n",
    "from sklearn.metrics import classification_report, confusion_matrix"
   ]
  },
  {
   "cell_type": "code",
   "execution_count": 237,
   "metadata": {},
   "outputs": [],
   "source": [
    "X_traindf = pd.read_csv('train\\X_train.txt', delim_whitespace=True, header = None)\n",
    "Y_traindf = pd.read_csv('train\\y_train.txt', header = None, delim_whitespace=True)"
   ]
  },
  {
   "cell_type": "code",
   "execution_count": 238,
   "metadata": {
    "scrolled": false
   },
   "outputs": [],
   "source": [
    "x_train = np.array(X_traindf)\n",
    "y_train = np.array(Y_traindf[0])"
   ]
  },
  {
   "cell_type": "code",
   "execution_count": null,
   "metadata": {
    "scrolled": true
   },
   "outputs": [],
   "source": [
    "#Part B"
   ]
  },
  {
   "cell_type": "code",
   "execution_count": 353,
   "metadata": {},
   "outputs": [],
   "source": [
    "from sklearn.cross_validation import train_test_split\n",
    "\n",
    "Xtrain1, Xtest1, ytrain1, ytest1 = train_test_split(x_train,y_train, test_size=0.2)\n"
   ]
  },
  {
   "cell_type": "code",
   "execution_count": 448,
   "metadata": {},
   "outputs": [
    {
     "name": "stdout",
     "output_type": "stream",
     "text": [
      "0.9687287559483345\n"
     ]
    }
   ],
   "source": [
    "#Building K means using default neighbours\n",
    "knn = KNeighborsClassifier()\n",
    "knn.fit(Xtrain1, ytrain1)\n",
    "ypred1 = knn.predict(Xtest1)\n",
    "print(metrics.accuracy_score(ytest1, ypred1))"
   ]
  },
  {
   "cell_type": "code",
   "execution_count": 451,
   "metadata": {},
   "outputs": [],
   "source": [
    "#Cross validation calculating accuracy\n",
    "from sklearn.model_selection import cross_val_score\n",
    "cv_scores = []\n",
    "cv_scores_f1 = []\n",
    "\n",
    "for k in range(1,50):\n",
    "    knn = KNeighborsClassifier(n_neighbors=k)\n",
    "    scores = cross_val_score(knn, Xtrain1, ytrain1, cv=10, scoring='f1_weighted', n_jobs=-1)\n",
    "    cv_scores_f1.append(scores.mean())\n",
    "    scores1 = cross_val_score(knn, Xtrain1, ytrain1, cv=10, scoring='accuracy', n_jobs=-1)\n",
    "    cv_scores.append(scores1.mean())\n"
   ]
  },
  {
   "cell_type": "code",
   "execution_count": null,
   "metadata": {},
   "outputs": [],
   "source": [
    "#Predicting the optimal neighbours and plotting line graph"
   ]
  },
  {
   "cell_type": "code",
   "execution_count": 452,
   "metadata": {},
   "outputs": [
    {
     "name": "stdout",
     "output_type": "stream",
     "text": [
      "The optimal number of neighbors is 1\n"
     ]
    },
    {
     "data": {
      "image/png": "[encoded data removed]",
      "text/plain": [
       "<Figure size 432x288 with 1 Axes>"
      ]
     },
     "metadata": {},
     "output_type": "display_data"
    }
   ],
   "source": [
    "import matplotlib.pyplot as plt\n",
    "MSE = [1 - xtest1 for xtest1 in cv_scores_f1]\n",
    "optimal_k = range(1,51)[MSE.index(min(MSE))]\n",
    "print (\"The optimal number of neighbors is %d\" % optimal_k)\n",
    "\n",
    "# allow plots to appear within the notebook\n",
    "%matplotlib inline\n",
    "\n",
    "plt.plot(range(1,51), cv_scores)\n",
    "plt.xlabel('Number of Neighbors K')\n",
    "plt.ylabel('Accuracy')\n",
    "plt.show()\n"
   ]
  },
  {
   "cell_type": "code",
   "execution_count": 126,
   "metadata": {
    "scrolled": true
   },
   "outputs": [],
   "source": [
    "as we can see the optimum value of k = 1 gives the highest accuracy, hence using k = 1 as the best k value"
   ]
  },
  {
   "cell_type": "code",
   "execution_count": 456,
   "metadata": {},
   "outputs": [
    {
     "name": "stdout",
     "output_type": "stream",
     "text": [
      "(1471,)\n"
     ]
    }
   ],
   "source": [
    "#Retraining the model and evaluating the performance of the training using the optimal k value\n",
    "X_testdf = pd.read_csv('test\\X_test.txt', delim_whitespace=True, header = None)\n",
    "Y_testdf = pd.read_csv('test\\y_test.txt', header = None, delim_whitespace=True)\n",
    "\n",
    "from sklearn.cross_validation import train_test_split\n",
    "\n",
    "print(ytest1.shape)\n",
    "\n",
    "x_test = np.array(X_testdf)\n",
    "y_test = np.array(Y_testdf[0])\n",
    "\n",
    "Xtrain2, Xtest2, ytrain2, ytest2 = train_test_split(x_test,y_test, test_size=0.2)"
   ]
  },
  {
   "cell_type": "code",
   "execution_count": 457,
   "metadata": {},
   "outputs": [
    {
     "name": "stdout",
     "output_type": "stream",
     "text": [
      "Confusion matrix\n",
      "[[ 95   0   0   0   0   0]\n",
      " [  0  79   0   0   0   0]\n",
      " [  2   0  82   0   0   0]\n",
      " [  0   0   0  81   7   0]\n",
      " [  0   0   0   7 113   0]\n",
      " [  0   0   0   0   0 124]]\n",
      "F1_Score Average\n",
      "             precision    recall  f1-score   support\n",
      "\n",
      "          1       0.98      1.00      0.99        95\n",
      "          2       1.00      1.00      1.00        79\n",
      "          3       1.00      0.98      0.99        84\n",
      "          4       0.92      0.92      0.92        88\n",
      "          5       0.94      0.94      0.94       120\n",
      "          6       1.00      1.00      1.00       124\n",
      "\n",
      "avg / total       0.97      0.97      0.97       590\n",
      "\n",
      "Accuracy\n",
      "0.9728813559322034\n"
     ]
    }
   ],
   "source": [
    "knn = KNeighborsClassifier(n_neighbors=3)\n",
    "knn.fit(Xtrain2, ytrain2)\n",
    "ypred2 = knn.predict(Xtest2)\n",
    "\n",
    "Confusion = confusion_matrix(ytest2,ypred2)\n",
    "print ('Confusion matrix')\n",
    "print(Confusion)\n",
    "print('F1_Score Average')\n",
    "print(classification_report(ytest2,ypred2))\n",
    "print('Accuracy')\n",
    "print(metrics.accuracy_score(ytest2, ypred2))"
   ]
  },
  {
   "cell_type": "code",
   "execution_count": null,
   "metadata": {},
   "outputs": [],
   "source": [
    "#Task C"
   ]
  },
  {
   "cell_type": "code",
   "execution_count": 321,
   "metadata": {},
   "outputs": [],
   "source": [
    "from sklearn.linear_model import SGDClassifier\n",
    "from sklearn.model_selection import train_test_split\n",
    "from sklearn.metrics import accuracy_score\n",
    "from sklearn.model_selection import GridSearchCV"
   ]
  },
  {
   "cell_type": "code",
   "execution_count": 339,
   "metadata": {},
   "outputs": [],
   "source": [
    "#Buildiing an elasticnet model and finding the best alpha value and l1_ratio\n",
    "\n",
    "alpha_val = [1e-4,3e-4,1e-3,3e-3, 1e-2,3e-2]\n",
    "l1ratio =   [0,0.15,0.5,0.7,1]\n",
    "\n",
    "values = dict(alpha = alpha_val, l1_ratio = l1ratio)\n",
    "Xtrain3, Xtest3, ytrain3, ytest3 = train_test_split(x_train,y_train, test_size=0.2)\n",
    "elasticnet = SGDClassifier(loss='log', penalty='elasticnet', max_iter=1000) \n",
    "bestvalues = GridSearchCV(elasticnet, values, cv = 10, scoring = 'f1_weighted')"
   ]
  },
  {
   "cell_type": "code",
   "execution_count": 453,
   "metadata": {},
   "outputs": [],
   "source": [
    "elasticnet.fit(Xtrain3, ytrain3)\n",
    "bestvalues.fit(Xtrain3, ytrain3)\n",
    "y_predict = elasticnet.predict(Xtest3)"
   ]
  },
  {
   "cell_type": "code",
   "execution_count": 442,
   "metadata": {},
   "outputs": [
    {
     "name": "stdout",
     "output_type": "stream",
     "text": [
      "Accuracy: 0.9490142760027193\n",
      "Best l1 ratio is\n",
      "0.5\n",
      "Best Alpha value is\n",
      "0.001\n"
     ]
    }
   ],
   "source": [
    "elasticnet_acc = accuracy_score(y_predict, ytest3)\n",
    "print(\"Accuracy: {}\".format(elasticnet_acc))\n",
    "l1best = bestvalues.best_params_['l1_ratio']\n",
    "alphabest = bestvalues.best_params_['alpha']\n",
    "print(\"Best l1 ratio is\")\n",
    "print(l1best)\n",
    "print(\"Best Alpha value is\")\n",
    "print(alphabest)"
   ]
  },
  {
   "cell_type": "code",
   "execution_count": 454,
   "metadata": {},
   "outputs": [],
   "source": [
    "#retraining the train model to predict the label on test set\n",
    "\n",
    "elasticnet1 = SGDClassifier(loss='log', penalty='elasticnet', alpha = alphabest, l1_ratio = l1best, max_iter = 1000)\n",
    "\n",
    "#fit the model\n",
    "elasticnet1.fit(Xtrain2,ytrain2)\n",
    "\n",
    "#prediction\n",
    "pred = elasticnet1.predict(Xtrain2)\n",
    "\n",
    "#test prediction\n",
    "pred1 = elasticnet1.predict(Xtest2)"
   ]
  },
  {
   "cell_type": "code",
   "execution_count": 443,
   "metadata": {},
   "outputs": [
    {
     "name": "stdout",
     "output_type": "stream",
     "text": [
      "Training accuracy : 0.986423419601188\n",
      "Tetsting accuracy :0.9847457627118644\n",
      "Confusion Metrics is\n",
      "[[ 92   0   0   0   0   0]\n",
      " [  0  84   0   0   0   0]\n",
      " [  2   1  83   0   0   0]\n",
      " [  0   1   0  90   0   0]\n",
      " [  0   0   0   5 110   0]\n",
      " [  0   0   0   0   0 122]]\n",
      "Classification Report is\n",
      "             precision    recall  f1-score   support\n",
      "\n",
      "          1       0.98      1.00      0.99        92\n",
      "          2       0.98      1.00      0.99        84\n",
      "          3       1.00      0.97      0.98        86\n",
      "          4       0.95      0.99      0.97        91\n",
      "          5       1.00      0.96      0.98       115\n",
      "          6       1.00      1.00      1.00       122\n",
      "\n",
      "avg / total       0.99      0.98      0.98       590\n",
      "\n"
     ]
    }
   ],
   "source": [
    "#Accuracy\n",
    "elasticnet1_acc = metrics.accuracy_score(ytrain2, pred)\n",
    "print(\"Training accuracy : {}\" .format(elasticnet1_acc))\n",
    "\n",
    "#Accuracy\n",
    "elasticnet2_acc = metrics.accuracy_score(ytest2,pred1)\n",
    "print(\"Tetsting accuracy :{}\".format(elasticnet2_acc))\n",
    "\n",
    "\n",
    "#confusion metrics\n",
    "\n",
    "elasticnet1_conf = metrics.confusion_matrix(ytest2,pred1)\n",
    "print(\"Confusion Metrics is\")\n",
    "print(elasticnet1_conf)\n",
    "\n",
    "#Classification report\n",
    "\n",
    "elasticnet1_clas = metrics.classification_report(ytest2,pred1)\n",
    "print(\"Classification Report is\")\n",
    "print(elasticnet1_clas)"
   ]
  },
  {
   "cell_type": "code",
   "execution_count": null,
   "metadata": {},
   "outputs": [],
   "source": [
    "#Task D"
   ]
  },
  {
   "cell_type": "code",
   "execution_count": 368,
   "metadata": {},
   "outputs": [],
   "source": [
    "from sklearn import svm\n",
    "from sklearn.grid_search import GridSearchCV"
   ]
  },
  {
   "cell_type": "code",
   "execution_count": 369,
   "metadata": {},
   "outputs": [],
   "source": [
    "#building the SVM model with rbf Kernel and finding the best gamma value and c value\n",
    "gamma_value =  [1e-3, 1e-4]\n",
    "c_value = [1,10,100,1000]\n",
    "\n",
    "values1 = dict(gamma = gamma_value, C = c_value)\n",
    "SVM_a = svm.SVC(kernel = 'rbf')\n",
    "SVM_Score = GridSearchCV(SVM_a, values1, cv = 10, scoring = 'f1_weighted')"
   ]
  },
  {
   "cell_type": "code",
   "execution_count": 370,
   "metadata": {},
   "outputs": [
    {
     "data": {
      "text/plain": [
       "GridSearchCV(cv=10, error_score='raise',\n",
       "       estimator=SVC(C=1.0, cache_size=200, class_weight=None, coef0=0.0,\n",
       "  decision_function_shape='ovr', degree=3, gamma='auto', kernel='rbf',\n",
       "  max_iter=-1, probability=False, random_state=None, shrinking=True,\n",
       "  tol=0.001, verbose=False),\n",
       "       fit_params={}, iid=True, n_jobs=1,\n",
       "       param_grid={'gamma': [0.001, 0.0001], 'C': [1, 10, 100, 1000]},\n",
       "       pre_dispatch='2*n_jobs', refit=True, scoring='f1_weighted',\n",
       "       verbose=0)"
      ]
     },
     "execution_count": 370,
     "metadata": {},
     "output_type": "execute_result"
    }
   ],
   "source": [
    "SVM_Score.fit(Xtrain3, ytrain3)"
   ]
  },
  {
   "cell_type": "code",
   "execution_count": 371,
   "metadata": {},
   "outputs": [
    {
     "name": "stdout",
     "output_type": "stream",
     "text": [
      "Best Gamma value :\n",
      "0.001\n",
      "Best C Value :\n",
      "1000\n"
     ]
    }
   ],
   "source": [
    "best_gamma = SVM_Score.best_params_['gamma']\n",
    "best_c_value = SVM_Score.best_params_['C']\n",
    "\n",
    "print('Best Gamma value :')\n",
    "print(best_gamma)\n",
    "print('Best C Value :')\n",
    "print(best_c_value)"
   ]
  },
  {
   "cell_type": "code",
   "execution_count": 455,
   "metadata": {},
   "outputs": [],
   "source": [
    "#retraining the train model to predict the label on test set\n",
    "\n",
    "SVM_retrain = svm.SVC(kernel = 'rbf', gamma = best_gamma, C = best_c_value)\n",
    "\n",
    "#fit the model\n",
    "SVM_retrain.fit(Xtrain2,ytrain2)\n",
    "\n",
    "#prediction\n",
    "pred_SVM = SVM_retrain.predict(Xtrain2)\n",
    "\n",
    "#test prediction\n",
    "pred_SVM_test = SVM_retrain.predict(Xtest2)"
   ]
  },
  {
   "cell_type": "code",
   "execution_count": 444,
   "metadata": {},
   "outputs": [
    {
     "name": "stdout",
     "output_type": "stream",
     "text": [
      "Training accuracy : 1.0\n",
      "Tetsting accuracy :0.988135593220339\n",
      "Confusion Metrics is\n",
      "[[ 92   0   0   0   0   0]\n",
      " [  0  84   0   0   0   0]\n",
      " [  0   0  86   0   0   0]\n",
      " [  0   0   0  89   2   0]\n",
      " [  0   0   0   5 110   0]\n",
      " [  0   0   0   0   0 122]]\n",
      "Classification Report is\n",
      "             precision    recall  f1-score   support\n",
      "\n",
      "          1       1.00      1.00      1.00        92\n",
      "          2       1.00      1.00      1.00        84\n",
      "          3       1.00      1.00      1.00        86\n",
      "          4       0.95      0.98      0.96        91\n",
      "          5       0.98      0.96      0.97       115\n",
      "          6       1.00      1.00      1.00       122\n",
      "\n",
      "avg / total       0.99      0.99      0.99       590\n",
      "\n"
     ]
    }
   ],
   "source": [
    "#Accuracy\n",
    "SVM_retrain_acc = metrics.accuracy_score(ytrain2, pred_SVM)\n",
    "print(\"Training accuracy : {}\" .format(SVM_retrain_acc))\n",
    "\n",
    "#Accuracy\n",
    "pred_SVM_test_acc = metrics.accuracy_score(ytest2,pred_SVM_test)\n",
    "print(\"Tetsting accuracy :{}\".format(pred_SVM_test_acc))\n",
    "\n",
    "#confusion metrics\n",
    "\n",
    "SVM_conf = metrics.confusion_matrix(ytest2,pred_SVM_test)\n",
    "print(\"Confusion Metrics is\")\n",
    "print(SVM_conf)\n",
    "\n",
    "#Classification report\n",
    "\n",
    "SVM_clas = metrics.classification_report(ytest2,pred_SVM_test)\n",
    "print(\"Classification Report is\")\n",
    "print(SVM_clas)"
   ]
  },
  {
   "cell_type": "code",
   "execution_count": null,
   "metadata": {},
   "outputs": [],
   "source": [
    "#Task E"
   ]
  },
  {
   "cell_type": "code",
   "execution_count": 374,
   "metadata": {},
   "outputs": [],
   "source": [
    "from sklearn.ensemble import RandomForestClassifier\n",
    "from sklearn.grid_search import GridSearchCV"
   ]
  },
  {
   "cell_type": "code",
   "execution_count": 422,
   "metadata": {},
   "outputs": [],
   "source": [
    "#Building the Rndom forest classifier for and finding the best depth and estimators\n",
    "\n",
    "depth =  [300,500,600]\n",
    "n_trees = [200,500,700]\n",
    "\n",
    "values_rf = dict(n_estimators = n_trees, max_depth = depth)\n",
    "random_forest = RandomForestClassifier()\n",
    "rf_score = GridSearchCV(random_forest, values_rf, cv = 10, scoring = 'f1_micro')"
   ]
  },
  {
   "cell_type": "code",
   "execution_count": 423,
   "metadata": {},
   "outputs": [
    {
     "data": {
      "text/plain": [
       "GridSearchCV(cv=10, error_score='raise',\n",
       "       estimator=RandomForestClassifier(bootstrap=True, class_weight=None, criterion='gini',\n",
       "            max_depth=None, max_features='auto', max_leaf_nodes=None,\n",
       "            min_impurity_decrease=0.0, min_impurity_split=None,\n",
       "            min_samples_leaf=1, min_samples_split=2,\n",
       "            min_weight_fraction_leaf=0.0, n_estimators=10, n_jobs=1,\n",
       "            oob_score=False, random_state=None, verbose=0,\n",
       "            warm_start=False),\n",
       "       fit_params={}, iid=True, n_jobs=1,\n",
       "       param_grid={'n_estimators': [200, 500, 700], 'max_depth': [300, 500, 600]},\n",
       "       pre_dispatch='2*n_jobs', refit=True, scoring='f1_micro', verbose=0)"
      ]
     },
     "execution_count": 423,
     "metadata": {},
     "output_type": "execute_result"
    }
   ],
   "source": [
    "rf_score.fit(Xtrain3, ytrain3)"
   ]
  },
  {
   "cell_type": "code",
   "execution_count": 424,
   "metadata": {},
   "outputs": [
    {
     "name": "stdout",
     "output_type": "stream",
     "text": [
      "Best depth of trees :\n",
      "500\n",
      "Best number of trees :\n",
      "500\n"
     ]
    }
   ],
   "source": [
    "best_depth = rf_score.best_params_['max_depth']\n",
    "best_trees = rf_score.best_params_['n_estimators']\n",
    "\n",
    "print('Best depth of trees :')\n",
    "print(best_depth)\n",
    "print('Best number of trees :')\n",
    "print(best_trees)"
   ]
  },
  {
   "cell_type": "code",
   "execution_count": 440,
   "metadata": {},
   "outputs": [],
   "source": [
    "#retraining the train model to predict the label on test set\n",
    "\n",
    "rf_retrain = RandomForestClassifier(n_estimators=best_trees, max_depth=best_depth)\n",
    "\n",
    "#fit the model\n",
    "rf_retrain.fit(Xtrain2,ytrain2)\n",
    "\n",
    "#train prediction\n",
    "pred_rf = rf_retrain.predict(Xtrain2)\n",
    "\n",
    "#test prediction\n",
    "pred_rf_test = rf_retrain.predict(Xtest2)\n",
    "\n"
   ]
  },
  {
   "cell_type": "code",
   "execution_count": 445,
   "metadata": {},
   "outputs": [
    {
     "name": "stdout",
     "output_type": "stream",
     "text": [
      "Training accuracy : 1.0\n",
      "Testing accuracy :0.9796610169491525\n",
      "Confusion Metrics is\n",
      "[[ 92   0   0   0   0   0]\n",
      " [  0  84   0   0   0   0]\n",
      " [  2   2  82   0   0   0]\n",
      " [  0   0   0  87   4   0]\n",
      " [  0   0   0   4 111   0]\n",
      " [  0   0   0   0   0 122]]\n",
      "\n",
      "Classification Report is\n",
      "             precision    recall  f1-score   support\n",
      "\n",
      "          1       0.98      1.00      0.99        92\n",
      "          2       0.98      1.00      0.99        84\n",
      "          3       1.00      0.95      0.98        86\n",
      "          4       0.96      0.96      0.96        91\n",
      "          5       0.97      0.97      0.97       115\n",
      "          6       1.00      1.00      1.00       122\n",
      "\n",
      "avg / total       0.98      0.98      0.98       590\n",
      "\n"
     ]
    }
   ],
   "source": [
    "#Accuracy\n",
    "rf_retrain_acc = metrics.accuracy_score(ytrain2, pred_rf)\n",
    "print(\"Training accuracy : {}\" .format(rf_retrain_acc))\n",
    "\n",
    "#Accuracy\n",
    "pred_rf_test_acc = metrics.accuracy_score(ytest2,pred_rf_test)\n",
    "print(\"Testing accuracy :{}\".format(pred_rf_test_acc))\n",
    "\n",
    "#confusion metrics\n",
    "\n",
    "rf_conf = metrics.confusion_matrix(ytest2,pred_rf_test)\n",
    "print(\"Confusion Metrics is\")\n",
    "print(rf_conf)\n",
    "\n",
    "#Classification report\n",
    "\n",
    "rf_clas = metrics.classification_report(ytest2,pred_rf_test)\n",
    "print(\"\")\n",
    "print(\"Classification Report is\")\n",
    "print(rf_clas)\n"
   ]
  },
  {
   "cell_type": "code",
   "execution_count": null,
   "metadata": {},
   "outputs": [],
   "source": [
    "#Task A\n",
    "\n",
    "Objective of data collection process\n",
    "Objective of data collection is to understand human behaviour and their daily activities using the waist mounted sensors.\n",
    "The current data is collected to analyse the daily activities that a normal human performs using the latest technology \n",
    "i.e. smartphones. \n",
    "\n",
    "Human activity types\n",
    "There were 6 different activities performed by individuals, they are Standing, sitting, standing, Laying down, sitting down \n",
    "and laying down. There are totally 3 human activities performed in a specific manner where all the activities are repeated twice\n",
    "The activities are Standing, Sitting and Laying Down. These activities were performed by a group of 30 individuals.\n",
    "\n",
    "Instances\n",
    "Totally there are 70% of the instances available in test data set and 30% of the instances are available in train data set. \n",
    "Totally extracted features were 561 to represent each instance. There are multiple features extracted \n",
    "\n",
    "Features\n",
    "The multiple features extracted are from the accelerometer and gyroscope, there are two main features, they are related to body\n",
    "and gravity. Basically the features extracted are denoted in a specific format. Features are Magnitue, Jerk and Acceleration \n",
    "are obtaied. \n",
    "\n",
    "SVM Model was used in order to recognise the activities performed. This model provided 96% accuracy. It is trained by exploiting\n",
    "binary classifiers of SVM, are generalized into multiclass case using OVA(one versus all) approach. The hyperparameters for SVM \n",
    "are selected through 10-fold-cross validatioin, the gaussian kernels are used in the experiments.\n",
    "\n",
    "\n"
   ]
  },
  {
   "cell_type": "code",
   "execution_count": null,
   "metadata": {},
   "outputs": [],
   "source": [
    "#Task F\n",
    "The classification method which achieved the best result is SVM, the reason is that we got an accuracy of 98.81% which\n",
    "is greater than all other models' classification after finding the best parameters from the data provided. \n",
    "K means classification performed the worst, we could get the accuracy score of 97.28% which is the lowest of all.\n",
    "I could do better than the results in paper as we can get more accurate data in the current world with the improved technology.\n",
    "To get more accurate data it is required to gather information or perfom tests on many more subjects and the test should be \n",
    "performed freely and not in the laboratory conditions. To further improve the model performances we will need to perform testing\n",
    "and train the model with more data. Finding more accurate alpha values, l1 ratio etc will lead the model to perform more \n",
    "accurately. "
   ]
  }
 ],
 "metadata": {
  "kernelspec": {
   "display_name": "Python 3",
   "language": "python",
   "name": "python3"
  },
  "language_info": {
   "codemirror_mode": {
    "name": "ipython",
    "version": 3
   },
   "file_extension": ".py",
   "mimetype": "text/x-python",
   "name": "python",
   "nbconvert_exporter": "python",
   "pygments_lexer": "ipython3",
   "version": "3.6.5"
  }
 },
 "nbformat": 4,
 "nbformat_minor": 2
}
